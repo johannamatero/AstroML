{
 "cells": [
  {
   "cell_type": "markdown",
   "metadata": {},
   "source": [
    "# Download fits-files from ASA based on search through JVO\n",
    "---\n",
    "*Johanna Matero*\n",
    "\n",
    "materoj@student.chalmers.se\n",
    "\n",
    "## Background\n",
    "\n",
    "This is a notebook to illustrate the possible uses of the functions in *jvo_utils.py*. These functions are used to search through [JVO](https://jvo.nao.ac.jp/portal/alma/archive.do) based on the project code as defined in [ASA](https://almascience.nrao.edu/asax/). The information in the table for a specific project in JVO can be extracted and visualized in directly in Python. It is also possible to download the thumbnails of the sources directly from JVO.\n",
    "\n",
    "### EXAMPLE PROJECT\n",
    "\n",
    "The data used as an example in this notebook has the project code ***2017.1.01310.S***. More information about this can be found on [JVO](https://jvo.nao.ac.jp/portal/alma/archive.do?action=project.info&projectCode=2017.1.00212.S&orderBy=&order=&limit=20&offset=0) and the image below is a screenshot of the website.\n",
    "\n",
    "<img src=\"Images/JVO_SD_1.png\" width=\"1000\">\n",
    "\n",
    "\n"
   ]
  },
  {
   "cell_type": "markdown",
   "metadata": {},
   "source": [
    "# Table of contents\n",
    "* [Functions to download files and images](#download)\n",
    "    * [Download FITS-files](#down1)\n",
    "    * [Download images (thumbnails)](#down2)\n",
    "* [Background functions](#background)\n",
    "    * [Extract table](#back1)\n",
    "    * [Determine cube size](#back2)\n",
    "    * [Get source name](#back3)\n",
    "    * [Get member uid](#back4)\n",
    "    * [Get target name](#back5)\n",
    "    * [Get thumbnail link](#back6)\n",
    "* [Combined example: create pandas dataframe](#comb)\n",
    " \n"
   ]
  },
  {
   "cell_type": "markdown",
   "metadata": {},
   "source": [
    "The available functions and needed modules are in *jvo_utils.py* and **the first step** is to import these. "
   ]
  },
  {
   "cell_type": "code",
   "execution_count": 1,
   "metadata": {},
   "outputs": [],
   "source": [
    "from jvo_utils import *"
   ]
  },
  {
   "cell_type": "markdown",
   "metadata": {},
   "source": [
    "## Download data <a class=\"anchor\" id=\"download\"></a>\n",
    "\n",
    "There are two different formats which can be downloaded: 1. FITS-files and 2. images (thumbnails). "
   ]
  },
  {
   "cell_type": "markdown",
   "metadata": {},
   "source": [
    "### Download FITS-files <a class=\"anchor\" id=\"down1\"></a>\n",
    "\n",
    "The FITS-files (and descriptive information) are identified and extracted from JVO. By extracting the file names from the JVO-table the corresponding data set is then downloaded directly from ASA. It is possible to download the whole data set, data with only one frequency channel (continuum data) or data with multiple frequency channels.\n",
    "**Input**\n",
    "- project_code: (string) project code on form defined by ASA/JVO\n",
    "\n",
    "**Optional input**\n",
    "- path: (string) direct path where to save files\n",
    "- correct_table: (table) extracted from JVO using function *jvo_table* (see [Extract table](#back1))\n",
    "- printBool: (boolean) if to print downloading status or not\n",
    "\n",
    "**Default**\n",
    "- only continuum files will be downloaded\n",
    "- the files will be saved as *Files/project_code/filename* where\n",
    "    - project_code is the specific project and filename is the filename defined by JVO (see image below)\n",
    "    - if the folder doesn't exist it will be created\n",
    "- the status after the downloading process will be printed, where there are three options:\n",
    "    - Downloaded\n",
    "    - File Already Exists\n",
    "    - File Not Found\n",
    "    \n",
    "The filenames corresponds to the column *original fits name* in the JVO table. \n",
    "\n",
    "<img src=\"Images/filename.png\" width=\"400\" style=\"float:left\">"
   ]
  },
  {
   "cell_type": "code",
   "execution_count": 2,
   "metadata": {},
   "outputs": [
    {
     "name": "stdout",
     "output_type": "stream",
     "text": [
      "DOWNLOADING FILES TO: Files/2017.1.01310.S\n",
      "\u001b[32mDownloaded: member.uid___A001_X1284_X4b1.L1448_IRS_2_sci.spw0_1_2_3.mfs.Q.manual.pbcor.fits \u001b[0m\n",
      "\u001b[34mFile Already Exists: member.uid___A001_X1284_X4b1.L1448_IRS_2_sci.spw0_1_2_3.mfs.I.manual.pbcor.fits \u001b[0m\n",
      "\u001b[32mDownloaded: member.uid___A001_X1284_X4b1.L1448_IRS_2_sci.spw0_1_2_3.mfs.U.manual.pbcor.fits \u001b[0m\n",
      "\u001b[32mDownloaded: member.uid___A001_X1284_X4b1.HH_211_sci.spw0_1_2_3.mfs.Q.manual.pbcor.fits \u001b[0m\n",
      "\u001b[32mDownloaded: member.uid___A001_X1284_X4b1.HH_211_sci.spw0_1_2_3.mfs.U.manual.pbcor.fits \u001b[0m\n",
      "\u001b[34mFile Already Exists: member.uid___A001_X1284_X4b1.HH_211_sci.spw0_1_2_3.mfs.I.manual.pbcor.fits \u001b[0m\n"
     ]
    }
   ],
   "source": [
    "jvo_download_alma(project_code = '2017.1.01310.S')"
   ]
  },
  {
   "cell_type": "code",
   "execution_count": 3,
   "metadata": {},
   "outputs": [
    {
     "name": "stdout",
     "output_type": "stream",
     "text": [
      "DOWNLOADING FILES TO: NewFolder\n"
     ]
    }
   ],
   "source": [
    "# extracting table from JVO\n",
    "new_table = jvo_table('2017.1.01310.S') \n",
    "\n",
    "# downloading continuum files to NewFolder\n",
    "jvo_download_alma(project_code = '2017.1.01310.S',\n",
    "                  correct_table = new_table, \n",
    "                  path = 'NewFolder',\n",
    "                  printBool = False)"
   ]
  },
  {
   "cell_type": "markdown",
   "metadata": {},
   "source": [
    "### Download images (thumbnails) <a class=\"anchor\" id=\"down2\"></a>\n",
    "It is also possible to download the thumbails from the JVO. These thumbails can be found in the column *Image* in the table (see image below). \n",
    "\n",
    "**Inputs**\n",
    " - see [Download data](#down1)\n",
    "\n",
    "The images are by default saved to a folder *Images/project_code*\n",
    "\n",
    "<img src=\"Images/thumbnail.png\" width=\"550\" style=\"float:left\">"
   ]
  },
  {
   "cell_type": "code",
   "execution_count": 4,
   "metadata": {},
   "outputs": [],
   "source": [
    "jvo_download_images(project_code = '2017.1.01310.S')"
   ]
  },
  {
   "cell_type": "markdown",
   "metadata": {},
   "source": [
    "## Background functions <a class=\"anchor\" id=\"background\"></a>\n",
    "\n",
    "There are also some functions used in the two functions for downloading files and images and these can of course be used separately as well.  "
   ]
  },
  {
   "cell_type": "markdown",
   "metadata": {},
   "source": [
    "### Extract table <a class=\"anchor\" id=\"back1\"></a>\n",
    "\n",
    "Function to extract information from the table on JVO and the information can be presented in a pandas dataframe.\n"
   ]
  },
  {
   "cell_type": "code",
   "execution_count": 5,
   "metadata": {},
   "outputs": [],
   "source": [
    "jvo_table('2017.1.01310.S');"
   ]
  },
  {
   "cell_type": "markdown",
   "metadata": {},
   "source": [
    "### Determine cube size <a class=\"anchor\" id=\"back2\"></a>\n",
    "\n",
    "Function to determine the cube size which can be used to see if a FITS-file contains continuum data (one frequency channel) or not (multiple frequency channels). The output is on the form A xB xC xD where A and B are the spatial dimensions C is the number of frequency channels and D is the number of color channels (*always 1*). The cube size can be found in the column Cube size in JVO table (see image below). \n",
    "\n",
    "<img src=\"Images/cube.png\" width=\"500\" style=\"float:left\">\n"
   ]
  },
  {
   "cell_type": "code",
   "execution_count": 6,
   "metadata": {},
   "outputs": [
    {
     "data": {
      "text/plain": [
       "['1000 x1000 x1 x1',\n",
       " '1000 x1000 x1 x1',\n",
       " '1000 x1000 x1 x1',\n",
       " '1000 x1000 x1 x1',\n",
       " '1000 x1000 x1 x1',\n",
       " '1000 x1000 x1 x1']"
      ]
     },
     "execution_count": 6,
     "metadata": {},
     "output_type": "execute_result"
    }
   ],
   "source": [
    "jvo_cube_size(project_code = '2017.1.01310.S')"
   ]
  },
  {
   "cell_type": "markdown",
   "metadata": {},
   "source": [
    "### Get source id <a class=\"anchor\" id=\"back3\"></a>\n",
    "\n",
    "Function to get the source id (as defined by ASA). This can also be found in the column *dataset id* in the JVO table (see image below).\n",
    "\n",
    "<img src=\"Images/id.png\" width=\"500\" style=\"float:left\">\n",
    "\n",
    "\n",
    "\n"
   ]
  },
  {
   "cell_type": "code",
   "execution_count": 7,
   "metadata": {},
   "outputs": [
    {
     "data": {
      "text/plain": [
       "['ALMA01287420',\n",
       " 'ALMA01287419',\n",
       " 'ALMA01287417',\n",
       " 'ALMA01287414',\n",
       " 'ALMA01287412',\n",
       " 'ALMA01287410']"
      ]
     },
     "execution_count": 7,
     "metadata": {},
     "output_type": "execute_result"
    }
   ],
   "source": [
    "jvo_source_id(project_code = '2017.1.01310.S')"
   ]
  },
  {
   "cell_type": "markdown",
   "metadata": {},
   "source": [
    "### Get member uid <a class=\"anchor\" id=\"back4\"></a>\n",
    "\n",
    "Function to get the member uid (as defined by ASA). This can also be found in the column *original fits name in the JVO table (see image below).\n",
    "\n",
    "<img src=\"Images/uid.png\" width=\"500\" style=\"float:left\">\n",
    "\n",
    "\n"
   ]
  },
  {
   "cell_type": "code",
   "execution_count": 8,
   "metadata": {},
   "outputs": [
    {
     "data": {
      "text/plain": [
       "['member.uid___A001_X1284_X4b1.L1448_IRS_2_sci.spw0_1_2_3.mfs.Q.manual.pbcor.fits ',\n",
       " 'member.uid___A001_X1284_X4b1.L1448_IRS_2_sci.spw0_1_2_3.mfs.I.manual.pbcor.fits ',\n",
       " 'member.uid___A001_X1284_X4b1.L1448_IRS_2_sci.spw0_1_2_3.mfs.U.manual.pbcor.fits ',\n",
       " 'member.uid___A001_X1284_X4b1.HH_211_sci.spw0_1_2_3.mfs.Q.manual.pbcor.fits ',\n",
       " 'member.uid___A001_X1284_X4b1.HH_211_sci.spw0_1_2_3.mfs.U.manual.pbcor.fits ',\n",
       " 'member.uid___A001_X1284_X4b1.HH_211_sci.spw0_1_2_3.mfs.I.manual.pbcor.fits ']"
      ]
     },
     "execution_count": 8,
     "metadata": {},
     "output_type": "execute_result"
    }
   ],
   "source": [
    "jvo_member_uid('2017.1.01310.S')"
   ]
  },
  {
   "cell_type": "markdown",
   "metadata": {},
   "source": [
    "### Get target name <a class=\"anchor\" id=\"back5\"></a>\n",
    "\n",
    "Function to get the target name (as defined by ASA). This can also be found in the column *target name* in the JVO table (see image below).\n",
    "\n",
    "<img src=\"Images/targetname.png\" width=\"500\" style=\"float:left\">\n"
   ]
  },
  {
   "cell_type": "code",
   "execution_count": 9,
   "metadata": {},
   "outputs": [
    {
     "data": {
      "text/plain": [
       "['L1448_IRS_2', 'L1448_IRS_2', 'L1448_IRS_2', 'HH_211', 'HH_211', 'HH_211']"
      ]
     },
     "execution_count": 9,
     "metadata": {},
     "output_type": "execute_result"
    }
   ],
   "source": [
    "jvo_target_name(project_code = '2017.1.01310.S')"
   ]
  },
  {
   "cell_type": "markdown",
   "metadata": {},
   "source": [
    "### Get thumbnail link <a class=\"anchor\" id=\"back6\"></a>\n",
    "\n",
    "Function to get the direct link to the thumbnails of JVO. \n"
   ]
  },
  {
   "cell_type": "code",
   "execution_count": 10,
   "metadata": {},
   "outputs": [
    {
     "data": {
      "text/plain": [
       "(['https://jvo.nao.ac.jp/portal/alma/archive.do?pictSize=128&dataId=ALMA01287420_00_00_00&dataType=image&action=quicklook',\n",
       "  'https://jvo.nao.ac.jp/portal/alma/archive.do?pictSize=128&dataId=ALMA01287419_00_00_00&dataType=image&action=quicklook',\n",
       "  'https://jvo.nao.ac.jp/portal/alma/archive.do?pictSize=128&dataId=ALMA01287417_00_00_00&dataType=image&action=quicklook',\n",
       "  'https://jvo.nao.ac.jp/portal/alma/archive.do?pictSize=128&dataId=ALMA01287414_00_00_00&dataType=image&action=quicklook',\n",
       "  'https://jvo.nao.ac.jp/portal/alma/archive.do?pictSize=128&dataId=ALMA01287412_00_00_00&dataType=image&action=quicklook',\n",
       "  'https://jvo.nao.ac.jp/portal/alma/archive.do?pictSize=128&dataId=ALMA01287410_00_00_00&dataType=image&action=quicklook'],\n",
       " ['ALMA01287420',\n",
       "  'ALMA01287419',\n",
       "  'ALMA01287417',\n",
       "  'ALMA01287414',\n",
       "  'ALMA01287412',\n",
       "  'ALMA01287410'])"
      ]
     },
     "execution_count": 10,
     "metadata": {},
     "output_type": "execute_result"
    }
   ],
   "source": [
    "jvo_image_link(project_code = '2017.1.01310.S')"
   ]
  },
  {
   "cell_type": "markdown",
   "metadata": {},
   "source": [
    "\n",
    "## Combined example: create pandas dataframe <a class=\"anchor\" id=\"comb\"></a>\n",
    "\n",
    "All the functions above can be combined and illustrated in a pandas dataframe. As an example say you want information about the target name, source id, cube size and member uid for a specific project code. It is then possible to extract this information from JVO and show it, as the example below. "
   ]
  },
  {
   "cell_type": "code",
   "execution_count": 11,
   "metadata": {},
   "outputs": [
    {
     "data": {
      "text/html": [
       "<div>\n",
       "<style scoped>\n",
       "    .dataframe tbody tr th:only-of-type {\n",
       "        vertical-align: middle;\n",
       "    }\n",
       "\n",
       "    .dataframe tbody tr th {\n",
       "        vertical-align: top;\n",
       "    }\n",
       "\n",
       "    .dataframe thead th {\n",
       "        text-align: right;\n",
       "    }\n",
       "</style>\n",
       "<table border=\"1\" class=\"dataframe\">\n",
       "  <thead>\n",
       "    <tr style=\"text-align: right;\">\n",
       "      <th></th>\n",
       "      <th>Project code</th>\n",
       "      <th>Target name</th>\n",
       "      <th>Project id</th>\n",
       "      <th>Cube size</th>\n",
       "      <th>Member uid</th>\n",
       "    </tr>\n",
       "  </thead>\n",
       "  <tbody>\n",
       "    <tr>\n",
       "      <td>0</td>\n",
       "      <td>2017.1.00212.S</td>\n",
       "      <td>TMC1A</td>\n",
       "      <td>ALMA01171747</td>\n",
       "      <td>4608x4608x1x1</td>\n",
       "      <td>member.uid___A001_X1288_X279.TMC1A_sci.spw7.mf...</td>\n",
       "    </tr>\n",
       "    <tr>\n",
       "      <td>1</td>\n",
       "      <td>2017.1.00212.S</td>\n",
       "      <td>TMC1A</td>\n",
       "      <td>ALMA01171745</td>\n",
       "      <td>4608x4608x109x1</td>\n",
       "      <td>member.uid___A001_X1288_X279.TMC1A_sci.spw7.cu...</td>\n",
       "    </tr>\n",
       "    <tr>\n",
       "      <td>2</td>\n",
       "      <td>2017.1.00212.S</td>\n",
       "      <td>TMC1A</td>\n",
       "      <td>ALMA01171743</td>\n",
       "      <td>4608x4608x1x1</td>\n",
       "      <td>member.uid___A001_X1288_X279.TMC1A_sci.spw5_7_...</td>\n",
       "    </tr>\n",
       "    <tr>\n",
       "      <td>3</td>\n",
       "      <td>2017.1.00212.S</td>\n",
       "      <td>TMC1A</td>\n",
       "      <td>ALMA01171741</td>\n",
       "      <td>4608x4608x1x1</td>\n",
       "      <td>member.uid___A001_X1288_X279.TMC1A_sci.spw5.mf...</td>\n",
       "    </tr>\n",
       "    <tr>\n",
       "      <td>4</td>\n",
       "      <td>2017.1.00212.S</td>\n",
       "      <td>TMC1A</td>\n",
       "      <td>ALMA01171739</td>\n",
       "      <td>4608x4608x109x1</td>\n",
       "      <td>member.uid___A001_X1288_X279.TMC1A_sci.spw5.cu...</td>\n",
       "    </tr>\n",
       "    <tr>\n",
       "      <td>5</td>\n",
       "      <td>2017.1.00212.S</td>\n",
       "      <td>TMC1A</td>\n",
       "      <td>ALMA01171737</td>\n",
       "      <td>4608x4608x1x1</td>\n",
       "      <td>member.uid___A001_X1288_X279.TMC1A_sci.spw19.m...</td>\n",
       "    </tr>\n",
       "    <tr>\n",
       "      <td>6</td>\n",
       "      <td>2017.1.00212.S</td>\n",
       "      <td>TMC1A</td>\n",
       "      <td>ALMA01171735</td>\n",
       "      <td>4608x4608x109x1</td>\n",
       "      <td>member.uid___A001_X1288_X279.TMC1A_sci.spw19.c...</td>\n",
       "    </tr>\n",
       "    <tr>\n",
       "      <td>7</td>\n",
       "      <td>2017.1.00212.S</td>\n",
       "      <td>TMC1A</td>\n",
       "      <td>ALMA01171733</td>\n",
       "      <td>4608x4608x1x1</td>\n",
       "      <td>member.uid___A001_X1288_X279.TMC1A_sci.spw17.m...</td>\n",
       "    </tr>\n",
       "    <tr>\n",
       "      <td>8</td>\n",
       "      <td>2017.1.00212.S</td>\n",
       "      <td>TMC1A</td>\n",
       "      <td>ALMA01171731</td>\n",
       "      <td>4608x4608x109x1</td>\n",
       "      <td>member.uid___A001_X1288_X279.TMC1A_sci.spw17.c...</td>\n",
       "    </tr>\n",
       "  </tbody>\n",
       "</table>\n",
       "</div>"
      ],
      "text/plain": [
       "     Project code Target name    Project id        Cube size  \\\n",
       "0  2017.1.00212.S       TMC1A  ALMA01171747    4608x4608x1x1   \n",
       "1  2017.1.00212.S       TMC1A  ALMA01171745  4608x4608x109x1   \n",
       "2  2017.1.00212.S       TMC1A  ALMA01171743    4608x4608x1x1   \n",
       "3  2017.1.00212.S       TMC1A  ALMA01171741    4608x4608x1x1   \n",
       "4  2017.1.00212.S       TMC1A  ALMA01171739  4608x4608x109x1   \n",
       "5  2017.1.00212.S       TMC1A  ALMA01171737    4608x4608x1x1   \n",
       "6  2017.1.00212.S       TMC1A  ALMA01171735  4608x4608x109x1   \n",
       "7  2017.1.00212.S       TMC1A  ALMA01171733    4608x4608x1x1   \n",
       "8  2017.1.00212.S       TMC1A  ALMA01171731  4608x4608x109x1   \n",
       "\n",
       "                                          Member uid  \n",
       "0  member.uid___A001_X1288_X279.TMC1A_sci.spw7.mf...  \n",
       "1  member.uid___A001_X1288_X279.TMC1A_sci.spw7.cu...  \n",
       "2  member.uid___A001_X1288_X279.TMC1A_sci.spw5_7_...  \n",
       "3  member.uid___A001_X1288_X279.TMC1A_sci.spw5.mf...  \n",
       "4  member.uid___A001_X1288_X279.TMC1A_sci.spw5.cu...  \n",
       "5  member.uid___A001_X1288_X279.TMC1A_sci.spw19.m...  \n",
       "6  member.uid___A001_X1288_X279.TMC1A_sci.spw19.c...  \n",
       "7  member.uid___A001_X1288_X279.TMC1A_sci.spw17.m...  \n",
       "8  member.uid___A001_X1288_X279.TMC1A_sci.spw17.c...  "
      ]
     },
     "execution_count": 11,
     "metadata": {},
     "output_type": "execute_result"
    }
   ],
   "source": [
    "project_code = '2017.1.00212.S'\n",
    "IMG_PATH = os.path.join('Images', project_code)\n",
    "FILE_PATH = os.path.join('Files', project_code)\n",
    "\n",
    "cube = jvo_cube_size(project_code)\n",
    "source_id = jvo_source_id(project_code)\n",
    "target_name = jvo_target_name(project_code)\n",
    "member_uid = jvo_member_uid(project_code)\n",
    "\n",
    "project_code_list = []\n",
    "for i in range(len(cube)):\n",
    "    cube[i] = cube[i].replace(' ', '')\n",
    "    project_code_list.append(project_code)\n",
    "    member_uid[i] = member_uid[i].replace(' ','')\n",
    "    \n",
    "df = pd.DataFrame([project_code_list, target_name, source_id, cube, member_uid]).T\n",
    "df.columns = ['Project code', 'Target name', 'Project id', 'Cube size', 'Member uid']\n",
    "df"
   ]
  }
 ],
 "metadata": {
  "kernelspec": {
   "display_name": "Python 3",
   "language": "python",
   "name": "python3"
  },
  "language_info": {
   "codemirror_mode": {
    "name": "ipython",
    "version": 3
   },
   "file_extension": ".py",
   "mimetype": "text/x-python",
   "name": "python",
   "nbconvert_exporter": "python",
   "pygments_lexer": "ipython3",
   "version": "3.7.4"
  }
 },
 "nbformat": 4,
 "nbformat_minor": 2
}
